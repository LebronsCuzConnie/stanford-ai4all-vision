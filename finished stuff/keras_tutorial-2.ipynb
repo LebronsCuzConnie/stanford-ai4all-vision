{
 "cells": [
  {
   "cell_type": "markdown",
   "metadata": {},
   "source": [
    " # Keras Tutorial\n",
    "\n",
    "Keras is a high-level neural networks API, written in Python and capable of running on top of certain lower-level frameworks like Tensorflow. It is one level above Tensorflow and aims at implementing the Deep Learning pipelines easily and quickly.\n",
    "\n",
    "For our final project, we will be using Keras to build the entire pipeline from scratch. This includes data pre-processing, feature extraction (with CNN) and classification (with fully-connected nets). The goal of this tutorial is to give you adequate knowledge to prepare you for the final project.\n",
    "\n",
    "What is good about Keras compared with other Deep Learning frameworks:\n",
    "* It's high-level, which means that you can implement complex things with several lines of simple code\n",
    "* It works directly with NumPy arrays, so you don't have to spend extra time on creating a Python class for dataset like PyTorch"
   ]
  },
  {
   "cell_type": "markdown",
   "metadata": {},
   "source": [
    "Remember in the class we talked about the pipeline of a real computer vision system, in which we:\n",
    "\n",
    "1. First clean the data to the format to be used for later steps (which includes data loading, data pre-processing, dataset splitting (we'll talk about this on Friday), data augmentation (which we're not gonna cover), etc);\n",
    "\n",
    "2. Then we build the model for feature extraction as well as for final regression / classification. Remember we have many choices like linear model, fully connected neural nets, convolutional neural nets, etc. And we can implement these models very easily in Keras with just one line of code;\n",
    "\n",
    "3. After we get the data and the model, we need to code up the optimization part (for which we'll use gradient descent). \n",
    "\n",
    "In this tutorial, we'll go over these parts sequentially."
   ]
  },
  {
   "cell_type": "markdown",
   "metadata": {},
   "source": [
    "## Data Loading and Pre-processing\n",
    "\n",
    "So in Keras we don't need anything specific for data, we just use NumPy and represent our data in Numpy arrays. Now we're gonna create some fake data to be used later."
   ]
  },
  {
   "cell_type": "code",
   "execution_count": 2,
   "metadata": {},
   "outputs": [],
   "source": [
    "# Import necessary packages\n",
    "import numpy as np"
   ]
  },
  {
   "cell_type": "code",
   "execution_count": 3,
   "metadata": {},
   "outputs": [
    {
     "name": "stdout",
     "output_type": "stream",
     "text": [
      "(1000, 32, 32, 3)\n"
     ]
    }
   ],
   "source": [
    "# Create random numpy arrays (ldata loading)\n",
    "rand_data = np.random.random((1000, 32, 32, 3)) # We have 1000 fake images with spatial size 32 * 32\n",
    "rand_label = np.array([0]*500 + [1]*500)        # Create fake binary labels for these images  \n",
    "\n",
    "print(rand_data.shape)"
   ]
  },
  {
   "cell_type": "code",
   "execution_count": 4,
   "metadata": {},
   "outputs": [
    {
     "ename": "NameError",
     "evalue": "name 'train_set' is not defined",
     "output_type": "error",
     "traceback": [
      "\u001b[0;31m---------------------------------------------------------------------------\u001b[0m",
      "\u001b[0;31mNameError\u001b[0m                                 Traceback (most recent call last)",
      "\u001b[0;32m<ipython-input-4-b856dd47d864>\u001b[0m in \u001b[0;36m<module>\u001b[0;34m\u001b[0m\n\u001b[1;32m     11\u001b[0m \u001b[0my_test\u001b[0m \u001b[0;34m=\u001b[0m \u001b[0mrand_label\u001b[0m\u001b[0;34m[\u001b[0m\u001b[0mint\u001b[0m\u001b[0;34m(\u001b[0m\u001b[0mrand_data\u001b[0m\u001b[0;34m.\u001b[0m\u001b[0mshape\u001b[0m\u001b[0;34m[\u001b[0m\u001b[0;36m0\u001b[0m\u001b[0;34m]\u001b[0m\u001b[0;34m*\u001b[0m\u001b[0;34m(\u001b[0m\u001b[0mtrain_ratio\u001b[0m\u001b[0;34m+\u001b[0m\u001b[0mval_ratio\u001b[0m\u001b[0;34m)\u001b[0m\u001b[0;34m)\u001b[0m\u001b[0;34m:\u001b[0m\u001b[0;34m,\u001b[0m \u001b[0;34m...\u001b[0m\u001b[0;34m]\u001b[0m\u001b[0;34m\u001b[0m\u001b[0;34m\u001b[0m\u001b[0m\n\u001b[1;32m     12\u001b[0m \u001b[0;34m\u001b[0m\u001b[0m\n\u001b[0;32m---> 13\u001b[0;31m \u001b[0mprint\u001b[0m\u001b[0;34m(\u001b[0m\u001b[0mtrain_set\u001b[0m\u001b[0;34m.\u001b[0m\u001b[0mshape\u001b[0m\u001b[0;34m)\u001b[0m\u001b[0;34m\u001b[0m\u001b[0;34m\u001b[0m\u001b[0m\n\u001b[0m\u001b[1;32m     14\u001b[0m \u001b[0mprint\u001b[0m\u001b[0;34m(\u001b[0m\u001b[0mval_set\u001b[0m\u001b[0;34m.\u001b[0m\u001b[0mshape\u001b[0m\u001b[0;34m)\u001b[0m\u001b[0;34m\u001b[0m\u001b[0;34m\u001b[0m\u001b[0m\n\u001b[1;32m     15\u001b[0m \u001b[0mprint\u001b[0m\u001b[0;34m(\u001b[0m\u001b[0mtest_set\u001b[0m\u001b[0;34m.\u001b[0m\u001b[0mshape\u001b[0m\u001b[0;34m)\u001b[0m\u001b[0;34m\u001b[0m\u001b[0;34m\u001b[0m\u001b[0m\n",
      "\u001b[0;31mNameError\u001b[0m: name 'train_set' is not defined"
     ]
    }
   ],
   "source": [
    "# Split data into train, validation and test sets (we'll talk more about this on Friday)\n",
    "train_ratio, val_ratio = 0.9, 0.05\n",
    "\n",
    "X_train = rand_data[:int(rand_data.shape[0]*train_ratio), ...] # ... means all the other axes\n",
    "y_train = rand_label[:int(rand_data.shape[0]*train_ratio), ...]\n",
    "\n",
    "X_val = rand_data[int(rand_data.shape[0]*train_ratio):int(rand_data.shape[0]*(train_ratio+val_ratio)), ...]\n",
    "y_val = rand_label[int(rand_data.shape[0]*train_ratio):int(rand_data.shape[0]*(train_ratio+val_ratio)), ...]\n",
    "\n",
    "X_test = rand_data[int(rand_data.shape[0]*(train_ratio+val_ratio)):, ...]\n",
    "y_test = rand_label[int(rand_data.shape[0]*(train_ratio+val_ratio)):, ...]\n",
    "\n",
    "print(train_set.shape)\n",
    "print(val_set.shape)\n",
    "print(test_set.shape)"
   ]
  },
  {
   "cell_type": "markdown",
   "metadata": {},
   "source": [
    "## Model construction\n",
    "\n",
    "Now we have all the data, next we're gonna build our model for feature extraction as well as classification. In Keras, you can easily build many models, as shown below."
   ]
  },
  {
   "cell_type": "code",
   "execution_count": 5,
   "metadata": {},
   "outputs": [
    {
     "name": "stderr",
     "output_type": "stream",
     "text": [
      "Using TensorFlow backend.\n",
      "WARNING: Logging before flag parsing goes to stderr.\n",
      "W0708 14:04:41.283819 4359500736 deprecation_wrapper.py:119] From /anaconda3/lib/python3.7/site-packages/keras/backend/tensorflow_backend.py:74: The name tf.get_default_graph is deprecated. Please use tf.compat.v1.get_default_graph instead.\n",
      "\n"
     ]
    }
   ],
   "source": [
    "import keras\n",
    "from keras.models import Sequential # Sequential is one of the main models in Keras, which is basically a sequentially stacked series of layers\n",
    "\n",
    "model = Sequential() # Initialize a Sequential model instance"
   ]
  },
  {
   "cell_type": "code",
   "execution_count": 6,
   "metadata": {},
   "outputs": [
    {
     "name": "stderr",
     "output_type": "stream",
     "text": [
      "W0708 14:04:41.318618 4359500736 deprecation_wrapper.py:119] From /anaconda3/lib/python3.7/site-packages/keras/backend/tensorflow_backend.py:517: The name tf.placeholder is deprecated. Please use tf.compat.v1.placeholder instead.\n",
      "\n",
      "W0708 14:04:41.325958 4359500736 deprecation_wrapper.py:119] From /anaconda3/lib/python3.7/site-packages/keras/backend/tensorflow_backend.py:4138: The name tf.random_uniform is deprecated. Please use tf.random.uniform instead.\n",
      "\n"
     ]
    }
   ],
   "source": [
    "# First we'll use fully-connected neural nets\n",
    "from keras.layers import Dense # Dense is Keras's name for fully connected layers\n",
    "\n",
    "# We can stack layers like lego blocks by simplying using `add()`\n",
    "# `units` is the number of neurons\n",
    "# `activation` is the nonlinear function we add for each layer\n",
    "# We only need to specify `input_dim` which is the input dimension for the layer for the input layer, because for later layers the input is just the output from last layer\n",
    "# Once again, the number of neurons in hidden layers (e.g., 64 and 16 here) are design choices\n",
    "\n",
    "model.add(Dense(units=64, activation='sigmoid', input_dim=32*32*3)) \n",
    "model.add(Dense(units=16, activation='sigmoid'))\n",
    "model.add(Dense(units=1, activation='sigmoid'))"
   ]
  },
  {
   "cell_type": "code",
   "execution_count": 7,
   "metadata": {},
   "outputs": [
    {
     "name": "stderr",
     "output_type": "stream",
     "text": [
      "W0708 14:04:41.388047 4359500736 deprecation_wrapper.py:119] From /anaconda3/lib/python3.7/site-packages/keras/optimizers.py:790: The name tf.train.Optimizer is deprecated. Please use tf.compat.v1.train.Optimizer instead.\n",
      "\n",
      "W0708 14:04:41.413199 4359500736 deprecation_wrapper.py:119] From /anaconda3/lib/python3.7/site-packages/keras/backend/tensorflow_backend.py:3376: The name tf.log is deprecated. Please use tf.math.log instead.\n",
      "\n",
      "W0708 14:04:41.420686 4359500736 deprecation.py:323] From /anaconda3/lib/python3.7/site-packages/tensorflow/python/ops/nn_impl.py:180: add_dispatch_support.<locals>.wrapper (from tensorflow.python.ops.array_ops) is deprecated and will be removed in a future version.\n",
      "Instructions for updating:\n",
      "Use tf.where in 2.0, which has the same broadcast rule as np.where\n"
     ]
    }
   ],
   "source": [
    "# Once the model is build, we then configure the learning process with `compile()`\n",
    "# We need to specify the loss function, the optimizer and the metric we use to evaluate our model\n",
    "# For loss here we're using a function called binary cross-entropy loss, which is specifically for binary classification\n",
    "# For optimizer we're using gradient descent, which is written as 'sgd' in Keras\n",
    "# Since we're doing classification, normally the classification accuracy is how we evaluate the model\n",
    "\n",
    "model.compile(loss='binary_crossentropy', optimizer='sgd', metrics=['accuracy'])"
   ]
  },
  {
   "cell_type": "code",
   "execution_count": 8,
   "metadata": {},
   "outputs": [],
   "source": [
    "# The above is actually a convenient way that Keras provides for easy implementation. If you want to have more control over the learning process (e.g., the learning rate), you can use the following:\n",
    "\n",
    "model.compile(loss=keras.losses.binary_crossentropy, optimizer=keras.optimizers.SGD(lr=0.001))"
   ]
  },
  {
   "cell_type": "code",
   "execution_count": 9,
   "metadata": {},
   "outputs": [
    {
     "name": "stdout",
     "output_type": "stream",
     "text": [
      "(900, 3072)\n",
      "(50, 3072)\n",
      "(50, 3072)\n"
     ]
    },
    {
     "name": "stderr",
     "output_type": "stream",
     "text": [
      "W0708 14:04:41.783230 4359500736 deprecation_wrapper.py:119] From /anaconda3/lib/python3.7/site-packages/keras/backend/tensorflow_backend.py:986: The name tf.assign_add is deprecated. Please use tf.compat.v1.assign_add instead.\n",
      "\n"
     ]
    },
    {
     "name": "stdout",
     "output_type": "stream",
     "text": [
      "Train on 900 samples, validate on 50 samples\n",
      "Epoch 1/5\n",
      "900/900 [==============================] - 0s 482us/step - loss: 0.7926 - val_loss: 1.4095\n",
      "Epoch 2/5\n",
      "900/900 [==============================] - 0s 117us/step - loss: 0.7733 - val_loss: 1.3433\n",
      "Epoch 3/5\n",
      "900/900 [==============================] - 0s 210us/step - loss: 0.7578 - val_loss: 1.2870\n",
      "Epoch 4/5\n",
      "900/900 [==============================] - 0s 118us/step - loss: 0.7455 - val_loss: 1.2367\n",
      "Epoch 5/5\n",
      "900/900 [==============================] - 0s 127us/step - loss: 0.7352 - val_loss: 1.1899\n"
     ]
    },
    {
     "data": {
      "text/plain": [
       "<keras.callbacks.History at 0xb340a3b38>"
      ]
     },
     "execution_count": 9,
     "metadata": {},
     "output_type": "execute_result"
    }
   ],
   "source": [
    "# Up to this point we're all doing configurations. Now everything is set up so we're letting the model do real things!\n",
    "\n",
    "# Since now we're using a fully-connected nets, remember we need to flatten the image to a single long vector first\n",
    "X_train_flat = X_train.reshape((-1, 32*32*3)) # -1 means letting NumPy to figure this axis out automatically\n",
    "X_val_flat = X_val.reshape((-1, 32*32*3))\n",
    "X_test_flat = X_test.reshape((-1, 32*32*3))\n",
    "\n",
    "print(X_train_flat.shape)\n",
    "print(X_val_flat.shape)\n",
    "print(X_test_flat.shape)\n",
    "\n",
    "# Then use fit() to actually train our model\n",
    "# epochs is basically how many iterations we want for the update process. The model needs some time to reach the optimal state!\n",
    "# batch_size is how many images we use each time to estimate the gradient. Remember that the more we use the more accurate each update will be, but it will also be slower\n",
    "\n",
    "model.fit(X_train_flat, y_train, epochs=5, batch_size=32, validation_data=(X_val_flat, y_val))"
   ]
  },
  {
   "cell_type": "code",
   "execution_count": 10,
   "metadata": {},
   "outputs": [
    {
     "name": "stdout",
     "output_type": "stream",
     "text": [
      "50/50 [==============================] - 0s 151us/step\n",
      "The test accuracy is: 1.181574683189392\n",
      "The predicted probabilities are: [[0.29468042]\n",
      " [0.32015872]\n",
      " [0.29702803]\n",
      " [0.2956799 ]\n",
      " [0.3032065 ]\n",
      " [0.3076725 ]\n",
      " [0.30662042]\n",
      " [0.31618002]\n",
      " [0.29678673]\n",
      " [0.31160414]\n",
      " [0.31556433]\n",
      " [0.3145309 ]\n",
      " [0.3043297 ]\n",
      " [0.29171878]\n",
      " [0.30827716]\n",
      " [0.31633997]\n",
      " [0.3225649 ]\n",
      " [0.30780837]\n",
      " [0.3049808 ]\n",
      " [0.30571368]\n",
      " [0.31296837]\n",
      " [0.3059591 ]\n",
      " [0.30577075]\n",
      " [0.2957374 ]\n",
      " [0.29871827]\n",
      " [0.31976348]\n",
      " [0.30585146]\n",
      " [0.2958573 ]\n",
      " [0.31252223]\n",
      " [0.30350444]\n",
      " [0.3080806 ]\n",
      " [0.30480707]\n",
      " [0.30357558]\n",
      " [0.30481586]\n",
      " [0.30484378]\n",
      " [0.30869654]\n",
      " [0.30685067]\n",
      " [0.29151616]\n",
      " [0.3149043 ]\n",
      " [0.31242874]\n",
      " [0.31596082]\n",
      " [0.32322848]\n",
      " [0.3065948 ]\n",
      " [0.28709796]\n",
      " [0.31754056]\n",
      " [0.31237417]\n",
      " [0.2991038 ]\n",
      " [0.32151175]\n",
      " [0.29705408]\n",
      " [0.3066637 ]]\n",
      "The predicted class labels are: [[0]\n",
      " [0]\n",
      " [0]\n",
      " [0]\n",
      " [0]\n",
      " [0]\n",
      " [0]\n",
      " [0]\n",
      " [0]\n",
      " [0]\n",
      " [0]\n",
      " [0]\n",
      " [0]\n",
      " [0]\n",
      " [0]\n",
      " [0]\n",
      " [0]\n",
      " [0]\n",
      " [0]\n",
      " [0]\n",
      " [0]\n",
      " [0]\n",
      " [0]\n",
      " [0]\n",
      " [0]\n",
      " [0]\n",
      " [0]\n",
      " [0]\n",
      " [0]\n",
      " [0]\n",
      " [0]\n",
      " [0]\n",
      " [0]\n",
      " [0]\n",
      " [0]\n",
      " [0]\n",
      " [0]\n",
      " [0]\n",
      " [0]\n",
      " [0]\n",
      " [0]\n",
      " [0]\n",
      " [0]\n",
      " [0]\n",
      " [0]\n",
      " [0]\n",
      " [0]\n",
      " [0]\n",
      " [0]\n",
      " [0]]\n"
     ]
    }
   ],
   "source": [
    "# Now let's see how our model does\n",
    "acc = model.evaluate(X_test_flat, y_test)\n",
    "print('The test accuracy is: {}'.format(acc))\n",
    "\n",
    "# And make predictions\n",
    "prob = model.predict(X_test_flat) # These are probabilities, and we want to convert them to class labels\n",
    "label = np.array(prob > 0.5, dtype=int)\n",
    "\n",
    "print('The predicted probabilities are: {}'.format(prob))\n",
    "print('The predicted class labels are: {}'.format(label))\n"
   ]
  },
  {
   "cell_type": "code",
   "execution_count": 11,
   "metadata": {},
   "outputs": [
    {
     "name": "stderr",
     "output_type": "stream",
     "text": [
      "W0708 14:04:42.912311 4359500736 deprecation_wrapper.py:119] From /anaconda3/lib/python3.7/site-packages/keras/backend/tensorflow_backend.py:3976: The name tf.nn.max_pool is deprecated. Please use tf.nn.max_pool2d instead.\n",
      "\n"
     ]
    },
    {
     "name": "stdout",
     "output_type": "stream",
     "text": [
      "Train on 900 samples, validate on 50 samples\n",
      "Epoch 1/10\n",
      "900/900 [==============================] - 1s 751us/step - loss: 0.6926 - val_loss: 0.7170\n",
      "Epoch 2/10\n",
      "900/900 [==============================] - 0s 239us/step - loss: 0.6901 - val_loss: 0.7521\n",
      "Epoch 3/10\n",
      "900/900 [==============================] - 0s 219us/step - loss: 0.6885 - val_loss: 0.7710\n",
      "Epoch 4/10\n",
      "900/900 [==============================] - 0s 242us/step - loss: 0.6879 - val_loss: 0.7934\n",
      "Epoch 5/10\n",
      "900/900 [==============================] - 0s 244us/step - loss: 0.6876 - val_loss: 0.7961\n",
      "Epoch 6/10\n",
      "900/900 [==============================] - 0s 258us/step - loss: 0.6876 - val_loss: 0.7983\n",
      "Epoch 7/10\n",
      "900/900 [==============================] - 0s 259us/step - loss: 0.6875 - val_loss: 0.8010\n",
      "Epoch 8/10\n",
      "900/900 [==============================] - 0s 228us/step - loss: 0.6874 - val_loss: 0.8116\n",
      "Epoch 9/10\n",
      "900/900 [==============================] - 0s 347us/step - loss: 0.6875 - val_loss: 0.8033\n",
      "Epoch 10/10\n",
      "900/900 [==============================] - 0s 458us/step - loss: 0.6874 - val_loss: 0.8100\n",
      "50/50 [==============================] - 0s 270us/step\n",
      "The test accuracy is: 0.8098985171318054\n",
      "The predicted probabilities are: [[0.44063222]\n",
      " [0.44352603]\n",
      " [0.44059277]\n",
      " [0.4510286 ]\n",
      " [0.4419642 ]\n",
      " [0.44206068]\n",
      " [0.44966272]\n",
      " [0.44859073]\n",
      " [0.44913477]\n",
      " [0.44227624]\n",
      " [0.44797465]\n",
      " [0.45102525]\n",
      " [0.4439025 ]\n",
      " [0.4446455 ]\n",
      " [0.4456716 ]\n",
      " [0.441153  ]\n",
      " [0.44551918]\n",
      " [0.44859925]\n",
      " [0.44565582]\n",
      " [0.44245347]\n",
      " [0.4505719 ]\n",
      " [0.4464479 ]\n",
      " [0.44437876]\n",
      " [0.44944695]\n",
      " [0.44598144]\n",
      " [0.4430134 ]\n",
      " [0.44437855]\n",
      " [0.44308266]\n",
      " [0.44482878]\n",
      " [0.44300544]\n",
      " [0.4423601 ]\n",
      " [0.44755605]\n",
      " [0.44172734]\n",
      " [0.44175786]\n",
      " [0.44670123]\n",
      " [0.43806195]\n",
      " [0.44461277]\n",
      " [0.44555348]\n",
      " [0.45000833]\n",
      " [0.44479033]\n",
      " [0.44533175]\n",
      " [0.4495609 ]\n",
      " [0.44323134]\n",
      " [0.4509157 ]\n",
      " [0.4376333 ]\n",
      " [0.44110474]\n",
      " [0.4404927 ]\n",
      " [0.4455273 ]\n",
      " [0.43818378]\n",
      " [0.44955215]]\n",
      "The predicted class labels are: [[0]\n",
      " [0]\n",
      " [0]\n",
      " [0]\n",
      " [0]\n",
      " [0]\n",
      " [0]\n",
      " [0]\n",
      " [0]\n",
      " [0]\n",
      " [0]\n",
      " [0]\n",
      " [0]\n",
      " [0]\n",
      " [0]\n",
      " [0]\n",
      " [0]\n",
      " [0]\n",
      " [0]\n",
      " [0]\n",
      " [0]\n",
      " [0]\n",
      " [0]\n",
      " [0]\n",
      " [0]\n",
      " [0]\n",
      " [0]\n",
      " [0]\n",
      " [0]\n",
      " [0]\n",
      " [0]\n",
      " [0]\n",
      " [0]\n",
      " [0]\n",
      " [0]\n",
      " [0]\n",
      " [0]\n",
      " [0]\n",
      " [0]\n",
      " [0]\n",
      " [0]\n",
      " [0]\n",
      " [0]\n",
      " [0]\n",
      " [0]\n",
      " [0]\n",
      " [0]\n",
      " [0]\n",
      " [0]\n",
      " [0]]\n"
     ]
    }
   ],
   "source": [
    "# As we can expect, the results are totally random\n",
    "# You can also play with other models, e.g., convnets\n",
    "# So we do the same procedure once more\n",
    "\n",
    "model = Sequential() # Re-initialize the model\n",
    "\n",
    "# Feature extractor\n",
    "# We're using such an architecture: conv -> maxpool -> conv -> maxpool\n",
    "# 'same' padding means we zero-pad the images so that the output will be of the same size as the input\n",
    "model.add(keras.layers.Conv2D(filters=16, kernel_size=3, strides=(2, 2), padding='same'))\n",
    "model.add(keras.layers.Activation('sigmoid'))\n",
    "model.add(keras.layers.MaxPooling2D(pool_size=(2, 2))) # By default the stride is the same as the pooling size\n",
    "\n",
    "model.add(keras.layers.Conv2D(filters=32, kernel_size=2, strides=(1, 1), padding='same'))\n",
    "model.add(keras.layers.Activation('relu')) # ReLU is another kind of non-linear function\n",
    "model.add(keras.layers.MaxPooling2D(pool_size=(2, 2)))\n",
    "\n",
    "# Classifier\n",
    "# We're using a 2-layer FC net for classification \n",
    "model.add(keras.layers.Flatten())\n",
    "\n",
    "model.add(keras.layers.Dense(32))\n",
    "model.add(keras.layers.Activation('relu'))\n",
    "\n",
    "model.add(keras.layers.Dense(1))\n",
    "model.add(keras.layers.Activation('sigmoid'))\n",
    "\n",
    "# Compilation\n",
    "model.compile(loss=keras.losses.binary_crossentropy, optimizer=keras.optimizers.SGD(lr=0.001))\n",
    "\n",
    "# Training\n",
    "model.fit(X_train, y_train, epochs=10, batch_size=32, validation_data=(X_val, y_val))\n",
    "\n",
    "# Evaluation\n",
    "acc = model.evaluate(X_test, y_test)\n",
    "print('The test accuracy is: {}'.format(acc))\n",
    "\n",
    "# And make predictions\n",
    "prob = model.predict(X_test) # These are probabilities, and we want to convert them to class labels\n",
    "label = np.array(prob > 0.5, dtype=int)\n",
    "\n",
    "print('The predicted probabilities are: {}'.format(prob))\n",
    "print('The predicted class labels are: {}'.format(label))"
   ]
  },
  {
   "cell_type": "code",
   "execution_count": null,
   "metadata": {},
   "outputs": [],
   "source": []
  }
 ],
 "metadata": {
  "kernelspec": {
   "display_name": "Python 3",
   "language": "python",
   "name": "python3"
  },
  "language_info": {
   "codemirror_mode": {
    "name": "ipython",
    "version": 3
   },
   "file_extension": ".py",
   "mimetype": "text/x-python",
   "name": "python",
   "nbconvert_exporter": "python",
   "pygments_lexer": "ipython3",
   "version": "3.7.3"
  }
 },
 "nbformat": 4,
 "nbformat_minor": 2
}
